{
 "cells": [
  {
   "cell_type": "code",
   "execution_count": 1,
   "metadata": {},
   "outputs": [],
   "source": [
    "import numpy as np"
   ]
  },
  {
   "cell_type": "code",
   "execution_count": 2,
   "metadata": {},
   "outputs": [
    {
     "name": "stdout",
     "output_type": "stream",
     "text": [
      "[1 2 3 4]\n",
      "<class 'numpy.ndarray'>\n"
     ]
    }
   ],
   "source": [
    "x = np.array([1,2,3,4])\n",
    "print(x)\n",
    "print(type(x))"
   ]
  },
  {
   "cell_type": "code",
   "execution_count": 3,
   "metadata": {},
   "outputs": [
    {
     "name": "stdout",
     "output_type": "stream",
     "text": [
      "[1, 2, 3, 4]\n",
      "<class 'list'>\n"
     ]
    }
   ],
   "source": [
    "y = [1,2,3,4]\n",
    "print(y)\n",
    "print(type(y))"
   ]
  },
  {
   "cell_type": "code",
   "execution_count": 4,
   "metadata": {},
   "outputs": [
    {
     "name": "stdout",
     "output_type": "stream",
     "text": [
      "2.28 µs ± 39.5 ns per loop (mean ± std. dev. of 7 runs, 100,000 loops each)\n"
     ]
    }
   ],
   "source": [
    "%timeit [j**4 for j in range(1,9)]"
   ]
  },
  {
   "cell_type": "code",
   "execution_count": 5,
   "metadata": {},
   "outputs": [
    {
     "name": "stdout",
     "output_type": "stream",
     "text": [
      "2.82 µs ± 73.9 ns per loop (mean ± std. dev. of 7 runs, 100,000 loops each)\n"
     ]
    }
   ],
   "source": [
    "%timeit np.arange(1,9)**4"
   ]
  },
  {
   "cell_type": "code",
   "execution_count": 6,
   "metadata": {},
   "outputs": [
    {
     "name": "stdout",
     "output_type": "stream",
     "text": [
      "[1 2 3 4]\n",
      "<class 'numpy.ndarray'>\n"
     ]
    }
   ],
   "source": [
    "x = [1,2,3,4]\n",
    "\n",
    "y = np.array(x)\n",
    "print(y)\n",
    "print(type(y))"
   ]
  },
  {
   "cell_type": "code",
   "execution_count": 7,
   "metadata": {},
   "outputs": [
    {
     "name": "stdout",
     "output_type": "stream",
     "text": [
      "['2' '2' '3' '4']\n"
     ]
    }
   ],
   "source": [
    "l = []\n",
    "\n",
    "for i in range(1,5):\n",
    "    int_1 = input(\"enter: \")\n",
    "    l.append(int_1)\n",
    "\n",
    "print(np.array(l))"
   ]
  },
  {
   "cell_type": "code",
   "execution_count": 8,
   "metadata": {},
   "outputs": [],
   "source": [
    "#1D array - [1 2 3 4]\n",
    "#2D array - [[1 2 3 4]]\n",
    "#3D array - [[[1 2 3 4]]]\n",
    "\n",
    "#to check dimension of array use ndim"
   ]
  },
  {
   "cell_type": "code",
   "execution_count": 9,
   "metadata": {},
   "outputs": [
    {
     "name": "stdout",
     "output_type": "stream",
     "text": [
      "[1 2 3 4]\n",
      "1\n"
     ]
    }
   ],
   "source": [
    "x = np.array([1,2,3,4])\n",
    "print(x)\n",
    "print(x.ndim)"
   ]
  },
  {
   "cell_type": "code",
   "execution_count": 10,
   "metadata": {},
   "outputs": [
    {
     "name": "stdout",
     "output_type": "stream",
     "text": [
      "[list([1, 2, 3, 4]) list([5, 6, 7])]\n",
      "1\n"
     ]
    },
    {
     "name": "stderr",
     "output_type": "stream",
     "text": [
      "C:\\Users\\Shashank\\AppData\\Local\\Temp\\ipykernel_23736\\364399195.py:1: VisibleDeprecationWarning: Creating an ndarray from ragged nested sequences (which is a list-or-tuple of lists-or-tuples-or ndarrays with different lengths or shapes) is deprecated. If you meant to do this, you must specify 'dtype=object' when creating the ndarray.\n",
      "  ar2 = np.array([[1,2,3,4],[5,6,7]])\n"
     ]
    }
   ],
   "source": [
    "ar2 = np.array([[1,2,3,4],[5,6,7]])\n",
    "print(ar2)\n",
    "print(ar2.ndim)"
   ]
  },
  {
   "cell_type": "code",
   "execution_count": 11,
   "metadata": {},
   "outputs": [
    {
     "name": "stdout",
     "output_type": "stream",
     "text": [
      "[[1 2 3 4]\n",
      " [5 6 7 8]]\n",
      "2\n"
     ]
    }
   ],
   "source": [
    "ar2 = np.array([[1,2,3,4],[5,6,7,8]])\n",
    "print(ar2)\n",
    "print(ar2.ndim)"
   ]
  },
  {
   "cell_type": "code",
   "execution_count": 12,
   "metadata": {},
   "outputs": [
    {
     "name": "stdout",
     "output_type": "stream",
     "text": [
      "[[[1 2 3 4]\n",
      "  [1 2 3 4]\n",
      "  [1 2 3 4]]]\n",
      "3\n"
     ]
    }
   ],
   "source": [
    "ar3 = np.array([[[1,2,3,4],[1,2,3,4],[1,2,3,4]]])\n",
    "print(ar3)\n",
    "print(ar3.ndim)"
   ]
  },
  {
   "cell_type": "code",
   "execution_count": 13,
   "metadata": {},
   "outputs": [
    {
     "name": "stdout",
     "output_type": "stream",
     "text": [
      "[[[[[[[[[[1 2 3 4]]]]]]]]]]\n",
      "10\n"
     ]
    }
   ],
   "source": [
    "arn = np.array([1,2,3,4],ndmin = 10)\n",
    "print(arn)\n",
    "print(arn.ndim)"
   ]
  },
  {
   "cell_type": "code",
   "execution_count": 14,
   "metadata": {},
   "outputs": [
    {
     "name": "stdout",
     "output_type": "stream",
     "text": [
      "[0. 0. 0. 0.]\n",
      "\n",
      "[[0. 0. 0. 0.]\n",
      " [0. 0. 0. 0.]\n",
      " [0. 0. 0. 0.]]\n"
     ]
    }
   ],
   "source": [
    "# special types of arrays \n",
    "\n",
    "ar_zero = np.zeros(4)\n",
    "ar_zero1 = np.zeros((3,4))\n",
    "print(ar_zero)\n",
    "print()\n",
    "print(ar_zero1)"
   ]
  },
  {
   "cell_type": "code",
   "execution_count": 15,
   "metadata": {},
   "outputs": [
    {
     "name": "stdout",
     "output_type": "stream",
     "text": [
      "[1. 1. 1. 1.]\n",
      "\n",
      "[[1. 1. 1. 1.]\n",
      " [1. 1. 1. 1.]\n",
      " [1. 1. 1. 1.]]\n"
     ]
    }
   ],
   "source": [
    "ar_one = np.ones(4)\n",
    "ar_one1 = np.ones((3,4))\n",
    "print(ar_one)\n",
    "print()\n",
    "print(ar_one1)"
   ]
  },
  {
   "cell_type": "code",
   "execution_count": 16,
   "metadata": {},
   "outputs": [
    {
     "name": "stdout",
     "output_type": "stream",
     "text": [
      "[1. 1. 1. 1.]\n"
     ]
    }
   ],
   "source": [
    "ar_em = np.empty(4)\n",
    "print(ar_em)\n",
    "#previous memory data is inserted in to this empty array "
   ]
  },
  {
   "cell_type": "code",
   "execution_count": 17,
   "metadata": {},
   "outputs": [
    {
     "name": "stdout",
     "output_type": "stream",
     "text": [
      "[0 1 2 3]\n"
     ]
    }
   ],
   "source": [
    "#range array \n",
    "ar_rn = np.arange(4)\n",
    "print(ar_rn)"
   ]
  },
  {
   "cell_type": "code",
   "execution_count": 18,
   "metadata": {},
   "outputs": [
    {
     "name": "stdout",
     "output_type": "stream",
     "text": [
      "[[1. 0. 0.]\n",
      " [0. 1. 0.]\n",
      " [0. 0. 1.]]\n"
     ]
    }
   ],
   "source": [
    "#diagonal array\n",
    "ar_dia = np.eye(3)\n",
    "print(ar_dia)"
   ]
  },
  {
   "cell_type": "code",
   "execution_count": 19,
   "metadata": {},
   "outputs": [
    {
     "name": "stdout",
     "output_type": "stream",
     "text": [
      "[[1. 0. 0. 0. 0.]\n",
      " [0. 1. 0. 0. 0.]\n",
      " [0. 0. 1. 0. 0.]]\n"
     ]
    }
   ],
   "source": [
    "ar_dia = np.eye(3,5)\n",
    "print(ar_dia)"
   ]
  },
  {
   "cell_type": "code",
   "execution_count": 20,
   "metadata": {},
   "outputs": [
    {
     "name": "stdout",
     "output_type": "stream",
     "text": [
      "[ 0.  5. 10. 15. 20.]\n"
     ]
    }
   ],
   "source": [
    "#linspace\n",
    "ar_lin = np.linspace(0,20,num = 5)\n",
    "print(ar_lin)"
   ]
  },
  {
   "cell_type": "code",
   "execution_count": 21,
   "metadata": {},
   "outputs": [
    {
     "name": "stdout",
     "output_type": "stream",
     "text": [
      "[0.13569043 0.80430906 0.64215895 0.14313503]\n"
     ]
    }
   ],
   "source": [
    "#rand() - random values between 0-1rand\n",
    "var = np.random.rand(4)\n",
    "print(var)"
   ]
  },
  {
   "cell_type": "code",
   "execution_count": 22,
   "metadata": {},
   "outputs": [
    {
     "name": "stdout",
     "output_type": "stream",
     "text": [
      "[[0.36493702 0.40926547 0.40329777 0.87225525]\n",
      " [0.10527366 0.11509264 0.78910393 0.29999587]\n",
      " [0.16893471 0.22666036 0.3789951  0.09175014]]\n"
     ]
    }
   ],
   "source": [
    "var = np.random.rand(3,4)\n",
    "print(var)"
   ]
  },
  {
   "cell_type": "code",
   "execution_count": 23,
   "metadata": {},
   "outputs": [
    {
     "name": "stdout",
     "output_type": "stream",
     "text": [
      "[-1.95553477 -0.26709189  1.63720525 -0.63848474]\n"
     ]
    }
   ],
   "source": [
    "#randn() - random values close to 0.\n",
    "var = np.random.randn(4);\n",
    "print(var)"
   ]
  },
  {
   "cell_type": "code",
   "execution_count": 24,
   "metadata": {},
   "outputs": [
    {
     "name": "stdout",
     "output_type": "stream",
     "text": [
      "[[ 1.36889291  0.80006468 -1.17420448  0.83140252]\n",
      " [ 0.6511906   1.02890701  0.10338568 -1.35637547]]\n"
     ]
    }
   ],
   "source": [
    "var = np.random.randn(2,4);\n",
    "print(var)"
   ]
  },
  {
   "cell_type": "code",
   "execution_count": 25,
   "metadata": {},
   "outputs": [
    {
     "name": "stdout",
     "output_type": "stream",
     "text": [
      "[0.38565587 0.41744438 0.70903334 0.16314051]\n"
     ]
    }
   ],
   "source": [
    "#ranf \n",
    "var = np.random.ranf(4);\n",
    "print(var)"
   ]
  },
  {
   "cell_type": "code",
   "execution_count": 26,
   "metadata": {},
   "outputs": [
    {
     "name": "stdout",
     "output_type": "stream",
     "text": [
      "[[0.37511667 0.22541298 0.21060789 0.53058016]\n",
      " [0.88307881 0.45490103 0.3064338  0.55023454]\n",
      " [0.69145284 0.67182212 0.6595855  0.08598994]]\n"
     ]
    }
   ],
   "source": [
    "var = np.random.ranf((3,4));\n",
    "print(var)"
   ]
  },
  {
   "cell_type": "code",
   "execution_count": 27,
   "metadata": {},
   "outputs": [
    {
     "name": "stdout",
     "output_type": "stream",
     "text": [
      "[2 1 1 1 2 2 3 3 3 3]\n"
     ]
    }
   ],
   "source": [
    "#randint random nos between a range\n",
    "var = np.random.randint(1,4,10) #(min,max,total value)\n",
    "print(var)"
   ]
  },
  {
   "cell_type": "code",
   "execution_count": 28,
   "metadata": {},
   "outputs": [
    {
     "name": "stdout",
     "output_type": "stream",
     "text": [
      "[1 2 3 4]\n",
      "int32\n"
     ]
    }
   ],
   "source": [
    "#Data types\n",
    "\n",
    "var = np.array([1,2,3,4])\n",
    "print(var)\n",
    "print(var.dtype)"
   ]
  },
  {
   "cell_type": "code",
   "execution_count": 29,
   "metadata": {},
   "outputs": [
    {
     "name": "stdout",
     "output_type": "stream",
     "text": [
      "[1. 2. 3. 4.]\n",
      "float64\n"
     ]
    }
   ],
   "source": [
    "var = np.array([1.0,2.0,3.0,4.0])\n",
    "print(var)\n",
    "print(var.dtype)"
   ]
  },
  {
   "cell_type": "code",
   "execution_count": 30,
   "metadata": {},
   "outputs": [
    {
     "name": "stdout",
     "output_type": "stream",
     "text": [
      "['s' 'a']\n",
      "<U1\n"
     ]
    }
   ],
   "source": [
    "var = np.array(['s','a'])\n",
    "print(var)\n",
    "print(var.dtype)"
   ]
  },
  {
   "cell_type": "code",
   "execution_count": 31,
   "metadata": {},
   "outputs": [
    {
     "name": "stdout",
     "output_type": "stream",
     "text": [
      "[1 2 3 4]\n",
      "int32\n"
     ]
    }
   ],
   "source": [
    "#converting datatypes \n",
    "x = np.array([1,2,3,4])\n",
    "print(x)\n",
    "print(x.dtype)"
   ]
  },
  {
   "cell_type": "code",
   "execution_count": 32,
   "metadata": {},
   "outputs": [
    {
     "name": "stdout",
     "output_type": "stream",
     "text": [
      "[1 2 3 4]\n",
      "int8\n"
     ]
    }
   ],
   "source": [
    "x = np.array([1,2,3,4],dtype = np.int8)\n",
    "print(x)\n",
    "print(x.dtype)"
   ]
  },
  {
   "cell_type": "code",
   "execution_count": 33,
   "metadata": {},
   "outputs": [
    {
     "name": "stdout",
     "output_type": "stream",
     "text": [
      "[1. 2. 3. 4.]\n",
      "float64\n"
     ]
    }
   ],
   "source": [
    "x = np.array([1,2,3,4],dtype = np.float64)\n",
    "print(x)\n",
    "print(x.dtype)"
   ]
  },
  {
   "cell_type": "code",
   "execution_count": 34,
   "metadata": {},
   "outputs": [
    {
     "name": "stdout",
     "output_type": "stream",
     "text": [
      "[1. 2. 3. 4.]\n",
      "float32\n"
     ]
    }
   ],
   "source": [
    "x = np.array([1,2,3,4],dtype = \"f\") #or use float32\n",
    "print(x)\n",
    "print(x.dtype)"
   ]
  },
  {
   "cell_type": "code",
   "execution_count": 35,
   "metadata": {},
   "outputs": [
    {
     "name": "stdout",
     "output_type": "stream",
     "text": [
      "int32\n",
      "int32\n",
      "float32\n",
      "[1 2 3 4]\n",
      "[1 2 3 4]\n",
      "[1. 2. 3. 4.]\n"
     ]
    }
   ],
   "source": [
    "x = np.array([1,2,3,4])\n",
    "new = np.float32(x)\n",
    "new1 = np.int_(new)\n",
    "\n",
    "\n",
    "print(new1.dtype)\n",
    "print(x.dtype)\n",
    "print(new.dtype)\n",
    "\n",
    "print(x)\n",
    "print(new1)\n",
    "print(new)"
   ]
  },
  {
   "cell_type": "code",
   "execution_count": 36,
   "metadata": {},
   "outputs": [
    {
     "name": "stdout",
     "output_type": "stream",
     "text": [
      "[1 2 3 4]\n",
      "[1. 2. 3. 4.]\n"
     ]
    }
   ],
   "source": [
    "x3 = np.array([1,2,3,4])\n",
    "new_1 = x3.astype(float)\n",
    "\n",
    "print(x3)\n",
    "print(new_1)"
   ]
  },
  {
   "cell_type": "code",
   "execution_count": 37,
   "metadata": {},
   "outputs": [
    {
     "name": "stdout",
     "output_type": "stream",
     "text": [
      "[[1 2 5]\n",
      " [3 4 5]]\n",
      "\n",
      "(2, 3)\n"
     ]
    }
   ],
   "source": [
    "#shape \n",
    "\n",
    "#2D array\n",
    "var = np.array([[1,2,5],[3,4,5]])\n",
    "print(var)\n",
    "print()\n",
    "print(var.shape)"
   ]
  },
  {
   "cell_type": "code",
   "execution_count": 38,
   "metadata": {},
   "outputs": [
    {
     "name": "stdout",
     "output_type": "stream",
     "text": [
      "[[[[[1 2 3 4]]]]]\n",
      "5\n",
      "(1, 1, 1, 1, 4)\n"
     ]
    }
   ],
   "source": [
    "#multi dimension array\n",
    "var1 = np.array([1,2,3,4], ndmin =5)\n",
    "print(var1)\n",
    "print(var1.ndim)\n",
    "print(var1.shape)"
   ]
  },
  {
   "cell_type": "code",
   "execution_count": 39,
   "metadata": {},
   "outputs": [
    {
     "name": "stdout",
     "output_type": "stream",
     "text": [
      "[[[[[1 2]\n",
      "    [3 4]]]]]\n",
      "5\n",
      "(1, 1, 1, 2, 2)\n"
     ]
    }
   ],
   "source": [
    "var1 = np.array([[1,2],[3,4]], ndmin =5)\n",
    "print(var1)\n",
    "print(var1.ndim)\n",
    "print(var1.shape)"
   ]
  },
  {
   "cell_type": "code",
   "execution_count": 40,
   "metadata": {},
   "outputs": [
    {
     "name": "stdout",
     "output_type": "stream",
     "text": [
      "[1 2 3 4 5 6]\n",
      "1\n",
      "\n",
      "[[1 2]\n",
      " [3 4]\n",
      " [5 6]]\n",
      "2\n",
      "\n",
      "[[[ 1  2]\n",
      "  [ 3  4]\n",
      "  [ 5  6]]\n",
      "\n",
      " [[ 7  8]\n",
      "  [ 9 10]\n",
      "  [11 12]]]\n",
      "3\n"
     ]
    }
   ],
   "source": [
    "#reshaping np array\n",
    "var1 = np.array([1,2,3,4,5,6])\n",
    "print(var1)\n",
    "print(var1.ndim)\n",
    "\n",
    "print()\n",
    "\n",
    "var2 = np.array([1,2,3,4,5,6])\n",
    "x = var2.reshape(3,2)\n",
    "print(x)\n",
    "print(x.ndim)\n",
    "\n",
    "print()\n",
    "\n",
    "var3 = np.array([1,2,3,4,5,6,7,8,9,10,11,12])\n",
    "y = var3.reshape(2,3,2)\n",
    "print(y)\n",
    "print(y.ndim)"
   ]
  },
  {
   "cell_type": "code",
   "execution_count": 41,
   "metadata": {},
   "outputs": [
    {
     "name": "stdout",
     "output_type": "stream",
     "text": [
      "[[[ 1  2]\n",
      "  [ 3  4]\n",
      "  [ 5  6]]\n",
      "\n",
      " [[ 7  8]\n",
      "  [ 9 10]\n",
      "  [11 12]]]\n",
      "3\n",
      "\n",
      "[ 1  2  3  4  5  6  7  8  9 10 11 12]\n",
      "1\n"
     ]
    }
   ],
   "source": [
    "#flattening an array i.e converting it to 1D array\n",
    "\n",
    "\n",
    "var3 = np.array([1,2,3,4,5,6,7,8,9,10,11,12])\n",
    "y = var3.reshape(2,3,2)\n",
    "print(y)\n",
    "print(y.ndim)\n",
    "\n",
    "print()\n",
    "\n",
    "x1 = y.reshape(-1)\n",
    "print(x1)\n",
    "print(x1.ndim)"
   ]
  },
  {
   "cell_type": "code",
   "execution_count": 42,
   "metadata": {},
   "outputs": [
    {
     "name": "stdout",
     "output_type": "stream",
     "text": [
      "[4 5 6 7]\n"
     ]
    }
   ],
   "source": [
    "#Arthimatic operations \n",
    "\n",
    "var = np.array([1,2,3,4])\n",
    "\n",
    "varadd = var+3\n",
    "print(varadd)"
   ]
  },
  {
   "cell_type": "code",
   "execution_count": 43,
   "metadata": {},
   "outputs": [
    {
     "name": "stdout",
     "output_type": "stream",
     "text": [
      "[4 5 6 7]\n"
     ]
    }
   ],
   "source": [
    "var = np.array([1,2,3,4])\n",
    "\n",
    "varadd = np.add(var,3)\n",
    "print(varadd)"
   ]
  },
  {
   "cell_type": "code",
   "execution_count": 44,
   "metadata": {},
   "outputs": [
    {
     "name": "stdout",
     "output_type": "stream",
     "text": [
      "[4 5 6 7]\n"
     ]
    }
   ],
   "source": [
    "var1 = np.array([1,2,3,4])\n",
    "var2 = np.array([3,3,3,3])\n",
    "\n",
    "varadd = var1+var2\n",
    "print(varadd)\n",
    "\n",
    "#same for /,%,*,- "
   ]
  },
  {
   "cell_type": "code",
   "execution_count": 45,
   "metadata": {},
   "outputs": [
    {
     "name": "stdout",
     "output_type": "stream",
     "text": [
      "[4 5 6 7]\n"
     ]
    }
   ],
   "source": [
    "var1 = np.array([1,2,3,4])\n",
    "var2 = np.array([3,3,3,3])\n",
    "\n",
    "varadd = np.add(var1,var2) #\n",
    "print(varadd)"
   ]
  },
  {
   "cell_type": "code",
   "execution_count": 46,
   "metadata": {},
   "outputs": [],
   "source": [
    "# a+b np.add(a,b)\n",
    "# a-b np.subtract(a,b)\n",
    "# a*b np.multiply(a,b)\n",
    "# a/b np.divde(a,b)\n",
    "# a%b np.mod(a,b)\n",
    "# a**b np.power(a,b)\n",
    "# 1/a np.reciprocal(a)"
   ]
  },
  {
   "cell_type": "code",
   "execution_count": 47,
   "metadata": {},
   "outputs": [
    {
     "name": "stdout",
     "output_type": "stream",
     "text": [
      "[[1 2 3 4]\n",
      " [1 2 3 4]]\n",
      "\n",
      "[[3 3 3 3]\n",
      " [4 4 4 4]]\n",
      "\n",
      "[[4 5 6 7]\n",
      " [5 6 7 8]]\n"
     ]
    }
   ],
   "source": [
    "#2D array\n",
    "\n",
    "var11 = np.array([[1,2,3,4],[1,2,3,4]])\n",
    "var22 = np.array([[3,3,3,3],[4,4,4,4]])\n",
    "\n",
    "print(var11)\n",
    "\n",
    "print()\n",
    "\n",
    "print(var22)\n",
    "\n",
    "print()\n",
    "\n",
    "\n",
    "print(np.add(var11,var22))"
   ]
  },
  {
   "cell_type": "code",
   "execution_count": 48,
   "metadata": {},
   "outputs": [
    {
     "name": "stdout",
     "output_type": "stream",
     "text": [
      "min: 1 0\n",
      "max: 8 6\n",
      "sqrt: [1.41421356 1.73205081 1.         2.         2.23606798 1.41421356\n",
      " 2.82842712 2.64575131]\n",
      "[ 0.90929743  0.14112001  0.84147098 -0.7568025  -0.95892427  0.90929743\n",
      "  0.98935825  0.6569866 ]\n",
      "[-0.41614684 -0.9899925   0.54030231 -0.65364362  0.28366219 -0.41614684\n",
      " -0.14550003  0.75390225]\n",
      "[ 4  9  1 16 25  4 64 49]\n"
     ]
    }
   ],
   "source": [
    "var0 = np.array([2,3,1,4,5,2,8,7])\n",
    "\n",
    "print(\"min:\",np.min(var0), np.argmin(var))\n",
    "print(\"max:\", np.max(var0), np.argmax(var0))\n",
    "print(\"sqrt:\", np.sqrt(var0))\n",
    "print(np.sin(var0))\n",
    "print(np.cos(var0))\n",
    "print(np.square(var0))\n"
   ]
  },
  {
   "cell_type": "code",
   "execution_count": 49,
   "metadata": {},
   "outputs": [],
   "source": [
    "#broadcasting \n",
    "\n",
    "# var1 = np.array([1,2,3,4])\n",
    "# var2 = np.array([1,2,3])\n",
    "\n",
    "# print(np.add(var1,var2))\n",
    "#ValueError: operands could not be broadcast together with shapes (4,) (3,)\n"
   ]
  },
  {
   "cell_type": "code",
   "execution_count": 50,
   "metadata": {},
   "outputs": [
    {
     "name": "stdout",
     "output_type": "stream",
     "text": [
      "[1 2 3]\n",
      "(3,)\n",
      "\n",
      "[[1]\n",
      " [2]\n",
      " [3]]\n",
      "(3, 1)\n",
      "\n",
      "[[2 3 4]\n",
      " [3 4 5]\n",
      " [4 5 6]]\n"
     ]
    }
   ],
   "source": [
    "var1 = np.array([1,2,3])\n",
    "var2 = np.array([[1],[2],[3]])\n",
    "\n",
    "print(var1)\n",
    "print(var1.shape)\n",
    "\n",
    "print()\n",
    "\n",
    "print(var2)\n",
    "print(var2.shape)\n",
    "\n",
    "print()\n",
    "print(np.add(var1,var2))"
   ]
  },
  {
   "cell_type": "code",
   "execution_count": 51,
   "metadata": {},
   "outputs": [
    {
     "name": "stdout",
     "output_type": "stream",
     "text": [
      "[[2 3 4 5]\n",
      " [3 4 5 6]\n",
      " [4 5 6 7]]\n"
     ]
    }
   ],
   "source": [
    "var1 = np.array([1,2,3,4])\n",
    "var2 = np.array([[1],[2],[3]])\n",
    "\n",
    "print(np.add(var1,var2))"
   ]
  },
  {
   "cell_type": "code",
   "execution_count": 52,
   "metadata": {},
   "outputs": [
    {
     "name": "stdout",
     "output_type": "stream",
     "text": [
      "(2, 1)\n",
      "(2, 3)\n",
      "\n",
      "[[2 3 4]\n",
      " [3 4 5]]\n"
     ]
    }
   ],
   "source": [
    "x = np.array([[1],[2]])\n",
    "print(x.shape)\n",
    "\n",
    "y = np.array([[1,2,3],[1,2,3]])\n",
    "print(y.shape)\n",
    "print()\n",
    "print(x+y)"
   ]
  },
  {
   "cell_type": "code",
   "execution_count": 53,
   "metadata": {},
   "outputs": [
    {
     "name": "stdout",
     "output_type": "stream",
     "text": [
      "8\n",
      "7\n"
     ]
    }
   ],
   "source": [
    "#Indexing\n",
    "\n",
    "var = np.array([9,8,7,6])\n",
    "\n",
    "print(var[1])\n",
    "print(var[-2])"
   ]
  },
  {
   "cell_type": "code",
   "execution_count": 54,
   "metadata": {},
   "outputs": [
    {
     "name": "stdout",
     "output_type": "stream",
     "text": [
      "[[9 8 7]\n",
      " [6 5 4]]\n",
      "\n",
      "(2, 3)\n",
      "\n",
      "8\n"
     ]
    }
   ],
   "source": [
    "var1 = np.array([[9,8,7],[6,5,4]])\n",
    "print(var1)\n",
    "\n",
    "print()\n",
    "\n",
    "print(var1.shape)\n",
    "\n",
    "print()\n",
    "\n",
    "print(var1[0][1]) # or print(var1[0,1])\n"
   ]
  },
  {
   "cell_type": "code",
   "execution_count": 55,
   "metadata": {},
   "outputs": [
    {
     "name": "stdout",
     "output_type": "stream",
     "text": [
      "[[[1 2]\n",
      "  [6 7]]]\n",
      "\n",
      "3\n",
      "\n",
      "[6 7]\n",
      "7\n"
     ]
    }
   ],
   "source": [
    "var2 = np.array([[[1,2],[6,7]]])\n",
    "print(var2)\n",
    "print()\n",
    "print(var2.ndim)\n",
    "print()\n",
    "print(var2[0][1])\n",
    "print(var2[0][1][1])"
   ]
  },
  {
   "cell_type": "code",
   "execution_count": 56,
   "metadata": {},
   "outputs": [
    {
     "name": "stdout",
     "output_type": "stream",
     "text": [
      "[[[1 2]\n",
      "  [3 4]]\n",
      "\n",
      " [[5 6]\n",
      "  [7 8]]]\n",
      "\n",
      "3\n",
      "5\n",
      "[5 6]\n"
     ]
    }
   ],
   "source": [
    "var2 = np.array([[[1,2],[3,4]],[[5,6],[7,8]]])\n",
    "print(var2)\n",
    "print()\n",
    "print(var2.ndim)\n",
    "print(var2[1][0][0])\n",
    "print(var2[1][0])"
   ]
  },
  {
   "cell_type": "code",
   "execution_count": 57,
   "metadata": {},
   "outputs": [
    {
     "name": "stdout",
     "output_type": "stream",
     "text": [
      "[1 2 3 4 5 6 7]\n",
      "\n",
      "[2 3 4 5]\n",
      "[2 4]\n",
      "[1 2 3 4 5 6 7]\n",
      "[1 2 3 4 5 6]\n",
      "[1 3 5]\n"
     ]
    }
   ],
   "source": [
    "#Slicing  if[1,2,3,4,5,6] to take data from 3-5 i.e [3,4,5]\n",
    "\n",
    "#1D - start:stop:step\n",
    "var = np.array([1,2,3,4,5,6,7])\n",
    "print(var)\n",
    "\n",
    "print()\n",
    "\n",
    "print(var[1:5])\n",
    "print(var[1:5:2])\n",
    "print(var[:])\n",
    "print(var[:-1])\n",
    "print(var[:-1:2])\n",
    "\n"
   ]
  },
  {
   "cell_type": "code",
   "execution_count": 58,
   "metadata": {},
   "outputs": [
    {
     "name": "stdout",
     "output_type": "stream",
     "text": [
      "[9 8 7]\n",
      "[9 7]\n",
      "[6 5 4]\n",
      "[6 4]\n"
     ]
    }
   ],
   "source": [
    "#2D array\n",
    "var1 = np.array([[9,8,7],[6,5,4]])\n",
    "print(var1[0][0:3])\n",
    "print(var1[0][0:3:2])\n",
    "print(var1[1][0:3])\n",
    "print(var1[1][0:3:2])"
   ]
  },
  {
   "cell_type": "code",
   "execution_count": 59,
   "metadata": {},
   "outputs": [
    {
     "name": "stdout",
     "output_type": "stream",
     "text": [
      "[1 2 3 4 5]\n",
      "[1 3 5]\n"
     ]
    }
   ],
   "source": [
    "#3D\n",
    "var2 = np.array([[[1,2,3,4,5],[6,7,8,9,10]]])\n",
    "print(var2[0][0][0:6])\n",
    "print(var2[0][0][0:6:2])\n",
    "# print(var2[1][0][0:6])\n",
    "# print(var2[1][0][0:6:2]) not present -> will not execute"
   ]
  },
  {
   "cell_type": "code",
   "execution_count": 60,
   "metadata": {},
   "outputs": [
    {
     "name": "stdout",
     "output_type": "stream",
     "text": [
      "[5 6 7 8]\n",
      "[5 7]\n",
      "[ 9 10 11 12]\n",
      "[13 15]\n"
     ]
    }
   ],
   "source": [
    "var2 = np.array([[[1,2,3,4],[5,6,7,8]],[[9,10,11,12],[13,14,15,16]]])\n",
    "print(var2[0][1][0:5])\n",
    "print(var2[0][1][0:5:2])\n",
    "print(var2[1][0][0:5])\n",
    "print(var2[1][1][0:5:2])"
   ]
  },
  {
   "cell_type": "code",
   "execution_count": 61,
   "metadata": {},
   "outputs": [
    {
     "name": "stdout",
     "output_type": "stream",
     "text": [
      "[ 1  3  2  5  4  7  6  9  8 10]\n",
      "\n",
      "1\n",
      "3\n",
      "2\n",
      "5\n",
      "4\n",
      "7\n",
      "6\n",
      "9\n",
      "8\n",
      "10\n",
      "\n",
      "1\n",
      "3\n",
      "2\n",
      "5\n",
      "4\n",
      "7\n",
      "6\n",
      "9\n",
      "8\n",
      "10\n"
     ]
    }
   ],
   "source": [
    "#Iterating Numpy Arrays\n",
    "\n",
    "\n",
    "#1D array\n",
    "x = np.array([1,3,2,5,4,7,6,9,8,10])\n",
    "print(x)\n",
    "print()\n",
    "for i in x:\n",
    "    print(i)\n",
    "\n",
    "print()\n",
    "\n",
    "for i in np.nditer(x):\n",
    "    print(i)\n"
   ]
  },
  {
   "cell_type": "code",
   "execution_count": 62,
   "metadata": {},
   "outputs": [
    {
     "name": "stdout",
     "output_type": "stream",
     "text": [
      "[[1 2 3 4]\n",
      " [1 2 3 4]]\n",
      "2\n",
      "\n",
      "[1 2 3 4]\n",
      "[1 2 3 4]\n",
      "\n",
      "1\n",
      "2\n",
      "3\n",
      "4\n",
      "1\n",
      "2\n",
      "3\n",
      "4\n",
      "\n",
      "1\n",
      "2\n",
      "3\n",
      "4\n",
      "1\n",
      "2\n",
      "3\n",
      "4\n"
     ]
    }
   ],
   "source": [
    "#2D array\n",
    "a = np.array([[1,2,3,4],[1,2,3,4]])\n",
    "print(a)\n",
    "print(a.ndim)\n",
    "\n",
    "print()\n",
    "\n",
    "for j in a:\n",
    "    print(j)\n",
    "\n",
    "\n",
    "print()\n",
    "\n",
    "for k in a: #selecting the row\n",
    "    for l in k: #now iterating through that row\n",
    "        print(l)\n",
    "\n",
    "print()\n",
    "\n",
    "for i in np.nditer(a):\n",
    "    print(i)\n",
    "        "
   ]
  },
  {
   "cell_type": "code",
   "execution_count": 63,
   "metadata": {},
   "outputs": [
    {
     "name": "stdout",
     "output_type": "stream",
     "text": [
      "[[[1 2 3 4]\n",
      "  [1 2 3 4]]\n",
      "\n",
      " [[1 2 3 4]\n",
      "  [4 5 6 7]]]\n",
      "3\n",
      "\n",
      "1\n",
      "2\n",
      "3\n",
      "4\n",
      "1\n",
      "2\n",
      "3\n",
      "4\n",
      "1\n",
      "2\n",
      "3\n",
      "4\n",
      "4\n",
      "5\n",
      "6\n",
      "7\n"
     ]
    }
   ],
   "source": [
    "#3D array\n",
    "b = np.array([[[1,2,3,4],[1,2,3,4]],[[1,2,3,4],[4,5,6,7]]])\n",
    "print(b)\n",
    "print(b.ndim)\n",
    "\n",
    "print()\n",
    "\n",
    "for i in b:\n",
    "    for j in i:\n",
    "        for k in j:\n",
    "            print(k)"
   ]
  },
  {
   "cell_type": "code",
   "execution_count": 64,
   "metadata": {},
   "outputs": [
    {
     "name": "stdout",
     "output_type": "stream",
     "text": [
      "[[[1 2 3 4]\n",
      "  [1 2 3 4]]]\n",
      "3\n",
      "\n",
      "1\n",
      "2\n",
      "3\n",
      "4\n",
      "1\n",
      "2\n",
      "3\n",
      "4\n",
      "\n",
      "(0, 0, 0) 1\n",
      "(0, 0, 1) 2\n",
      "(0, 0, 2) 3\n",
      "(0, 0, 3) 4\n",
      "(0, 1, 0) 1\n",
      "(0, 1, 1) 2\n",
      "(0, 1, 2) 3\n",
      "(0, 1, 3) 4\n"
     ]
    }
   ],
   "source": [
    "b = np.array([[[1,2,3,4],[1,2,3,4]]])\n",
    "print(b)\n",
    "print(b.ndim)\n",
    "\n",
    "print()\n",
    "\n",
    "for i in np.nditer(b):\n",
    "    print(i)\n",
    "\n",
    "print()\n",
    "\n",
    "for i,d in np.ndenumerate(b): #printing index and data  \n",
    "    print(i,d)"
   ]
  },
  {
   "cell_type": "code",
   "execution_count": 65,
   "metadata": {},
   "outputs": [
    {
     "name": "stdout",
     "output_type": "stream",
     "text": [
      "[ 1 10  3  4]\n",
      "[1 2 3 4]\n"
     ]
    }
   ],
   "source": [
    "#copy vs views\n",
    "\n",
    "var = np.array([1,2,3,4])\n",
    "co = var.copy() #the copy of an array is a new array, if original data is changed (var), it will not affect the data copied in the new array\n",
    "\n",
    "var[1]=10\n",
    "\n",
    "print(var)\n",
    "print(co)"
   ]
  },
  {
   "cell_type": "code",
   "execution_count": 66,
   "metadata": {},
   "outputs": [
    {
     "name": "stdout",
     "output_type": "stream",
     "text": [
      "[ 1 10  3  4]\n",
      "[ 1 10  3  4]\n"
     ]
    }
   ],
   "source": [
    "var = np.array([1,2,3,4])\n",
    "\n",
    "vi = var.view() #a view of the original array, if original data is changed (var), it will affect the data copied in the new array\n",
    "\n",
    "var[1]=10\n",
    "\n",
    "print(var)\n",
    "print(vi)"
   ]
  },
  {
   "cell_type": "code",
   "execution_count": 67,
   "metadata": {},
   "outputs": [
    {
     "name": "stdout",
     "output_type": "stream",
     "text": [
      "[1 2 3 4 6 7 8 9]\n"
     ]
    }
   ],
   "source": [
    "# join array \n",
    "\n",
    "a = np.array([1,2,3,4])\n",
    "b = np.array([6,7,8,9])\n",
    "\n",
    "ar = np.concatenate((a,b))\n",
    "print(ar)"
   ]
  },
  {
   "cell_type": "code",
   "execution_count": 68,
   "metadata": {},
   "outputs": [
    {
     "name": "stdout",
     "output_type": "stream",
     "text": [
      "[[1 2]\n",
      " [5 6]]\n",
      "\n",
      "[[2 2]\n",
      " [3 3]]\n",
      "\n",
      "[[1 2]\n",
      " [5 6]\n",
      " [2 2]\n",
      " [3 3]]\n",
      "\n",
      "[[1 2 2 2]\n",
      " [5 6 3 3]]\n"
     ]
    }
   ],
   "source": [
    "a1 = np.array([[1,2],[5,6]])\n",
    "b1 = np.array([[2,2],[3,3]])\n",
    "\n",
    "ar = np.concatenate((a1,b1),axis = 0)\n",
    "ar1 = np.concatenate((a1,b1),axis = 1)\n",
    "\n",
    "print(a1)\n",
    "print()\n",
    "print(b1)\n",
    "print()\n",
    "print(ar)\n",
    "print()\n",
    "print(ar1)"
   ]
  },
  {
   "cell_type": "code",
   "execution_count": 69,
   "metadata": {},
   "outputs": [
    {
     "name": "stdout",
     "output_type": "stream",
     "text": [
      "[[1 6]\n",
      " [2 7]\n",
      " [3 8]\n",
      " [4 9]]\n",
      "\n",
      "[[1 2 3 4]\n",
      " [6 7 8 9]]\n"
     ]
    }
   ],
   "source": [
    "a = np.array([1,2,3,4])\n",
    "b = np.array([6,7,8,9])\n",
    "\n",
    "ar_new = np.stack((a,b),axis=1) #rows\n",
    "print(ar_new)\n",
    "print()\n",
    "ar_new1 = np.stack((a,b),axis=0) #column\n",
    "print(ar_new1)"
   ]
  },
  {
   "cell_type": "code",
   "execution_count": 70,
   "metadata": {},
   "outputs": [
    {
     "name": "stdout",
     "output_type": "stream",
     "text": [
      "[1 2 3 4 6 7 8 9]\n",
      "\n",
      "[[[1 6]\n",
      "  [2 7]\n",
      "  [3 8]\n",
      "  [4 9]]]\n",
      "\n",
      "[[1 2 3 4]\n",
      " [6 7 8 9]]\n"
     ]
    }
   ],
   "source": [
    "a = np.array([1,2,3,4])\n",
    "b = np.array([6,7,8,9])\n",
    "\n",
    "ar_new = np.hstack((a,b)) #rows\n",
    "print(ar_new)\n",
    "print()\n",
    "ar_new1 = np.dstack((a,b)) #column\n",
    "print(ar_new1)\n",
    "print()\n",
    "ar_new1 = np.vstack((a,b)) #column\n",
    "print(ar_new1)"
   ]
  },
  {
   "cell_type": "code",
   "execution_count": 71,
   "metadata": {},
   "outputs": [
    {
     "name": "stdout",
     "output_type": "stream",
     "text": [
      "[1 2 3 4 5 6 7 8]\n",
      "\n",
      "[array([1, 2, 3]), array([4, 5, 6]), array([7, 8])]\n",
      "<class 'list'>\n",
      "\n",
      "[4 5 6]\n"
     ]
    }
   ],
   "source": [
    "#split array \n",
    "var = np.array([1,2,3,4,5,6,7,8])\n",
    "print(var)\n",
    "\n",
    "print()\n",
    "\n",
    "ar = np.array_split(var,3)\n",
    "print(ar)\n",
    "print(type(ar))\n",
    "print()\n",
    "\n",
    "a = ar[1]\n",
    "print(a)"
   ]
  },
  {
   "cell_type": "code",
   "execution_count": 72,
   "metadata": {},
   "outputs": [
    {
     "name": "stdout",
     "output_type": "stream",
     "text": [
      "[[1 2]\n",
      " [3 4]\n",
      " [5 6]]\n",
      "\n",
      "[array([[1, 2],\n",
      "       [3, 4]]), array([[5, 6]])]\n",
      "[array([[1, 2]]), array([[3, 4]]), array([[5, 6]])]\n",
      "\n",
      "[array([[1],\n",
      "       [3],\n",
      "       [5]]), array([[2],\n",
      "       [4],\n",
      "       [6]]), array([], shape=(3, 0), dtype=int32)]\n"
     ]
    }
   ],
   "source": [
    "var1 = np.array([[1,2],[3,4],[5,6]])\n",
    "print(var1)\n",
    "print()\n",
    "\n",
    "ar1 = np.array_split(var1,2)\n",
    "print(ar1)\n",
    "ar2 = np.array_split(var1,3)\n",
    "print(ar2)\n",
    "print()\n",
    "ar3 = np.array_split(var1,3,axis = 1)\n",
    "print(ar3)\n"
   ]
  },
  {
   "cell_type": "code",
   "execution_count": 73,
   "metadata": {},
   "outputs": [
    {
     "name": "stdout",
     "output_type": "stream",
     "text": [
      "(array([2, 5], dtype=int64),)\n"
     ]
    }
   ],
   "source": [
    "#search \n",
    "var = np.array([4,1,2,3,4,2,5,6,7,])\n",
    "x = np.where(var == 2)\n",
    "print(x)"
   ]
  },
  {
   "cell_type": "code",
   "execution_count": 74,
   "metadata": {},
   "outputs": [
    {
     "name": "stdout",
     "output_type": "stream",
     "text": [
      "(array([1, 3, 4, 6], dtype=int64),)\n"
     ]
    }
   ],
   "source": [
    "var = np.array([1,2,3,4,2,5,6,7,])\n",
    "x = np.where((var%2) == 0)\n",
    "print(x)"
   ]
  },
  {
   "cell_type": "code",
   "execution_count": 75,
   "metadata": {},
   "outputs": [
    {
     "name": "stdout",
     "output_type": "stream",
     "text": [
      "4\n",
      "[1 2 3 4 6 7 8]\n"
     ]
    }
   ],
   "source": [
    "var = np.array([1,2,3,4,6,7,8])\n",
    "\n",
    "x = np.searchsorted(var,5) # 5 can be inserted in the array at index 4\n",
    "print(x)\n",
    "print(var) #won't be shown here"
   ]
  },
  {
   "cell_type": "code",
   "execution_count": 76,
   "metadata": {},
   "outputs": [
    {
     "name": "stdout",
     "output_type": "stream",
     "text": [
      "4\n"
     ]
    }
   ],
   "source": [
    "var = np.array([1,2,3,4,6,7,8])\n",
    "x = np.searchsorted(var,5,side = \"right\")\n",
    "print(x)"
   ]
  },
  {
   "cell_type": "code",
   "execution_count": 77,
   "metadata": {},
   "outputs": [
    {
     "name": "stdout",
     "output_type": "stream",
     "text": [
      "[4 5 6]\n"
     ]
    }
   ],
   "source": [
    "var = np.array([1,2,3,4,6,7,8])\n",
    "x = np.searchsorted(var,[5,6,7],side = \"right\")\n",
    "print(x)"
   ]
  },
  {
   "cell_type": "code",
   "execution_count": 78,
   "metadata": {},
   "outputs": [
    {
     "name": "stdout",
     "output_type": "stream",
     "text": [
      "[1 2 3 4 5 6 7 8 9]\n"
     ]
    }
   ],
   "source": [
    "#sort\n",
    "var = np.array([1,3,2,5,4,7,6,9,8])\n",
    "\n",
    "print(np.sort(var))"
   ]
  },
  {
   "cell_type": "code",
   "execution_count": 79,
   "metadata": {},
   "outputs": [
    {
     "name": "stdout",
     "output_type": "stream",
     "text": [
      "['a' 'b' 'c' 'e']\n"
     ]
    }
   ],
   "source": [
    "var = np.array(['a','c','b','e'])\n",
    "print(np.sort(var))"
   ]
  },
  {
   "cell_type": "code",
   "execution_count": 80,
   "metadata": {},
   "outputs": [
    {
     "name": "stdout",
     "output_type": "stream",
     "text": [
      "[[1 3 4]\n",
      " [2 5 6]]\n"
     ]
    }
   ],
   "source": [
    "var = np.array([[1,4,3],[2,6,5]])\n",
    "print(np.sort(var))"
   ]
  },
  {
   "cell_type": "code",
   "execution_count": 81,
   "metadata": {},
   "outputs": [
    {
     "name": "stdout",
     "output_type": "stream",
     "text": [
      "[1 3]\n",
      "<class 'numpy.ndarray'>\n"
     ]
    }
   ],
   "source": [
    "#filter array \n",
    "\n",
    "var = np.array([1,2,3,4])\n",
    "\n",
    "f = [True,False,True,False]\n",
    "\n",
    "new_arr = var[f]\n",
    "print(new_arr)\n",
    "print(type(new_arr))\n"
   ]
  },
  {
   "cell_type": "code",
   "execution_count": 82,
   "metadata": {},
   "outputs": [
    {
     "name": "stdout",
     "output_type": "stream",
     "text": [
      "[2 8 5 9 6 4 1 7 3]\n"
     ]
    }
   ],
   "source": [
    "#Shuffle \n",
    "var = np.array([1,2,3,4,5,6,7,8,9])\n",
    "np.random.shuffle(var)\n",
    "print(var)"
   ]
  },
  {
   "cell_type": "code",
   "execution_count": 84,
   "metadata": {},
   "outputs": [
    {
     "name": "stdout",
     "output_type": "stream",
     "text": [
      "[[1 2 3]\n",
      " [4 5 6]]\n"
     ]
    }
   ],
   "source": [
    "#unique\n",
    "var = np.array([1,2,3,4,2,5,6,2,7])\n",
    "x = np.unique(var,return_index=True,return_counts=True)\n",
    "print(x)"
   ]
  },
  {
   "cell_type": "code",
   "execution_count": 83,
   "metadata": {},
   "outputs": [
    {
     "name": "stdout",
     "output_type": "stream",
     "text": [
      "[[1 2 3]\n",
      " [4 5 6]]\n"
     ]
    }
   ],
   "source": [
    "#resize\n",
    "var = np.array([1, 2, 3, 4, 5, 6])\n",
    "a = np.resize(var, (2, 3))\n",
    "print(a)\n"
   ]
  },
  {
   "cell_type": "code",
   "execution_count": 85,
   "metadata": {},
   "outputs": [
    {
     "name": "stdout",
     "output_type": "stream",
     "text": [
      "[1 2 3 4 5 6]\n",
      "\n",
      "[1 4 2 5 3 6]\n"
     ]
    }
   ],
   "source": [
    "#flatten\n",
    "var = np.array([1, 2, 3, 4, 5, 6])\n",
    "a = np.resize(var, (2, 3))\n",
    "print(a.flatten(order='C'))\n",
    "print()\n",
    "print(a.flatten(order='F'))"
   ]
  },
  {
   "cell_type": "code",
   "execution_count": 87,
   "metadata": {},
   "outputs": [
    {
     "name": "stdout",
     "output_type": "stream",
     "text": [
      "[1 2 3 4 5 6]\n",
      "\n",
      "[1 2 3 4 5 6]\n"
     ]
    }
   ],
   "source": [
    "#ravel\n",
    "var = np.array([1, 2, 3, 4, 5, 6])\n",
    "a = np.resize(var, (2, 3))\n",
    "print(np.ravel(a))\n",
    "print()\n",
    "print(np.ravel(a,order=\"A\"))"
   ]
  },
  {
   "cell_type": "code",
   "execution_count": 92,
   "metadata": {},
   "outputs": [
    {
     "name": "stdout",
     "output_type": "stream",
     "text": [
      "[1 2 3 4]\n",
      "[ 1  2 10  3  4]\n",
      "\n",
      "[ 1  2 10  3  4 10]\n"
     ]
    }
   ],
   "source": [
    "#insert\n",
    "var = np.array([1,2,3,4])\n",
    "print(var)\n",
    "\n",
    "a = np.insert(var,2,10) #array name, postion, value\n",
    "print(a)\n",
    "print()\n",
    "\n",
    "b = np.insert(var,(2,4),10)\n",
    "print(b)"
   ]
  },
  {
   "cell_type": "code",
   "execution_count": 97,
   "metadata": {},
   "outputs": [
    {
     "name": "stdout",
     "output_type": "stream",
     "text": [
      "[[1 2 3]\n",
      " [1 2 3]]\n",
      "\n",
      "[[1 2 3]\n",
      " [1 2 3]\n",
      " [6 6 6]]\n",
      "\n",
      "[[1 2 6 3]\n",
      " [1 2 6 3]]\n",
      "\n",
      "[[1 6 2 6 3]\n",
      " [1 6 2 6 3]]\n",
      "\n",
      "[[1 2 3]\n",
      " [6 6 6]\n",
      " [1 2 3]\n",
      " [6 6 6]]\n"
     ]
    }
   ],
   "source": [
    "var = np.array([[1,2,3],[1,2,3]])\n",
    "print(var)\n",
    "print()\n",
    "\n",
    "a = np.insert(var,2,6,axis=0)\n",
    "print(a)\n",
    "\n",
    "print()\n",
    "\n",
    "b = np.insert(var,2,6,axis=1)\n",
    "print(b)\n",
    "\n",
    "print()\n",
    "\n",
    "c = np.insert(var,[1,2],6,axis=1)\n",
    "print(c)\n",
    "\n",
    "print()\n",
    "\n",
    "d = np.insert(var,[1,2],6,axis=0)\n",
    "print(d)"
   ]
  },
  {
   "cell_type": "code",
   "execution_count": 98,
   "metadata": {},
   "outputs": [
    {
     "name": "stdout",
     "output_type": "stream",
     "text": [
      "[1 2 3 4]\n",
      "[1 2 4]\n"
     ]
    }
   ],
   "source": [
    "#delete\n",
    "var = np.array([1,2,3,4])\n",
    "print(var)\n",
    "\n",
    "d = np.delete(var, 2)\n",
    "print(d)"
   ]
  },
  {
   "cell_type": "code",
   "execution_count": 102,
   "metadata": {},
   "outputs": [
    {
     "name": "stdout",
     "output_type": "stream",
     "text": [
      "[[1 2 3]\n",
      " [1 2 3]]\n",
      "<class 'numpy.matrix'>\n",
      "[[1 2 3]\n",
      " [1 2 3]]\n",
      "<class 'numpy.ndarray'>\n"
     ]
    }
   ],
   "source": [
    "#matrix\n",
    "var = np.matrix([[1,2,3],[1,2,3]])\n",
    "\n",
    "print(var)\n",
    "print(type(var))\n",
    "\n",
    "var = np.array([[1,2,3],[1,2,3]])\n",
    "\n",
    "print(var)\n",
    "print(type(var))"
   ]
  },
  {
   "cell_type": "code",
   "execution_count": 120,
   "metadata": {},
   "outputs": [
    {
     "name": "stdout",
     "output_type": "stream",
     "text": [
      "[[2 4]\n",
      " [2 4]]\n",
      "[[0 0]\n",
      " [0 0]]\n",
      "[[1. 1.]\n",
      " [1. 1.]]\n",
      "[[0 0]\n",
      " [0 0]]\n",
      "[[3 6]\n",
      " [3 6]]\n"
     ]
    }
   ],
   "source": [
    "var = np.matrix([[1,2],[1,2]])\n",
    "var1 = np.matrix([[1,2],[1,2]])\n",
    "\n",
    "print(var+var1)\n",
    "print(var-var1)\n",
    "print(var/var1)\n",
    "print(var%var1)\n",
    "#print(var*var1) wont work\n",
    "print(var.dot(var1))"
   ]
  },
  {
   "cell_type": "code",
   "execution_count": 114,
   "metadata": {},
   "outputs": [
    {
     "name": "stdout",
     "output_type": "stream",
     "text": [
      "[[1 2 3]\n",
      " [1 2 3]]\n",
      "\n",
      "[[1 1]\n",
      " [2 2]\n",
      " [3 3]]\n"
     ]
    }
   ],
   "source": [
    "var = np.matrix([[1,2,3],[1,2,3]])\n",
    "print(var)\n",
    "print()\n",
    "print(np.transpose(var))"
   ]
  },
  {
   "cell_type": "code",
   "execution_count": 111,
   "metadata": {},
   "outputs": [
    {
     "name": "stdout",
     "output_type": "stream",
     "text": [
      "[[14 14]\n",
      " [14 14]]\n"
     ]
    }
   ],
   "source": [
    "#transpose\n",
    "var = np.matrix([[1,2,3],[1,2,3]])\n",
    "var1 = np.array([[1,2,3],[1,2,3]])\n",
    "print(var.dot(var1.T)) # need same size matrix or do transpose"
   ]
  },
  {
   "cell_type": "code",
   "execution_count": 118,
   "metadata": {},
   "outputs": [
    {
     "name": "stdout",
     "output_type": "stream",
     "text": [
      "[[1 2]\n",
      " [1 2]]\n",
      "\n",
      "0.0\n"
     ]
    }
   ],
   "source": [
    "# det & inverse\n",
    "var1 = np.array([[1,2],[1,2]])\n",
    "print(var1)\n",
    "print()\n",
    "\n",
    "print(np.linalg.det(var1))\n",
    "#print(np.linalg.inv(var1))\n",
    "#The error you're encountering, LinAlgError: Singular matrix, indicates that the matrix you're attempting to invert is singular. A singular matrix is one that does not have an inverse. This typically occurs when the determinant of the matrix is zero, indicating that the matrix does not have full rank and that its rows or columns are linearly dependent."
   ]
  },
  {
   "cell_type": "code",
   "execution_count": 119,
   "metadata": {},
   "outputs": [
    {
     "name": "stdout",
     "output_type": "stream",
     "text": [
      "[[1 2]\n",
      " [3 4]]\n",
      "\n",
      "[[-2.   1. ]\n",
      " [ 1.5 -0.5]]\n"
     ]
    }
   ],
   "source": [
    "var1 = np.array([[1,2],[3,4]])\n",
    "print(var1)\n",
    "print()\n",
    "\n",
    "print(np.linalg.inv(var1))"
   ]
  },
  {
   "cell_type": "code",
   "execution_count": 129,
   "metadata": {},
   "outputs": [
    {
     "name": "stdout",
     "output_type": "stream",
     "text": [
      "[[ 7 10]\n",
      " [15 22]]\n",
      "\n",
      "[[ 7 10]\n",
      " [15 22]]\n",
      "\n",
      "[[1 0]\n",
      " [0 1]]\n",
      "\n",
      "[[ 5.5  -2.5 ]\n",
      " [-3.75  1.75]]\n"
     ]
    }
   ],
   "source": [
    "#matrix power \n",
    "var = np.matrix([[1,2],[3,4]])\n",
    "\n",
    "print(var.dot(var)) #power 2 \n",
    "print()\n",
    "print(np.linalg.matrix_power(var,2)) #(var,n) n = 0 -> identity matrix, n>0 -> power is applied i.e dot product, n<0 -> inverse x power.\n",
    "print()\n",
    "print(np.linalg.matrix_power(var,0))\n",
    "print()\n",
    "print(np.linalg.matrix_power(var,-2))"
   ]
  },
  {
   "cell_type": "code",
   "execution_count": 133,
   "metadata": {},
   "outputs": [
    {
     "name": "stdout",
     "output_type": "stream",
     "text": [
      "0.0\n"
     ]
    }
   ],
   "source": [
    "z = np.matrix([[1,2,3],[2,2,2],[3,3,3]])\n",
    "print(np.linalg.det(z))"
   ]
  },
  {
   "cell_type": "code",
   "execution_count": null,
   "metadata": {},
   "outputs": [],
   "source": []
  }
 ],
 "metadata": {
  "kernelspec": {
   "display_name": "Python 3",
   "language": "python",
   "name": "python3"
  },
  "language_info": {
   "codemirror_mode": {
    "name": "ipython",
    "version": 3
   },
   "file_extension": ".py",
   "mimetype": "text/x-python",
   "name": "python",
   "nbconvert_exporter": "python",
   "pygments_lexer": "ipython3",
   "version": "3.9.6"
  }
 },
 "nbformat": 4,
 "nbformat_minor": 2
}
